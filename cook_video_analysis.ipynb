{
 "cells": [
  {
   "cell_type": "markdown",
   "id": "6c01ac64",
   "metadata": {},
   "source": [
    "# Cook Video Analysis\n",
    "   1. Analysis engine\n",
    "   2. Vision analysis\n",
    "   3. Text analysis\n",
    "   4. Result"
   ]
  },
  {
   "cell_type": "code",
   "execution_count": 1,
   "id": "26fe4999",
   "metadata": {},
   "outputs": [],
   "source": [
    "# SetUp\n",
    "import os\n",
    "from pathlib import Path\n",
    "import json\n",
    "import pandas as pd\n",
    "import torch\n",
    "import cv2\n",
    "import copy\n",
    "from tqdm import tqdm\n",
    "from collections import Counter\n",
    "import matplotlib.pyplot as plt\n",
    "from mmaction.apis import init_recognizer, inference_recognizer\n",
    "from model.run_model import communicator"
   ]
  },
  {
   "cell_type": "code",
   "execution_count": null,
   "id": "7b0f354f",
   "metadata": {},
   "outputs": [],
   "source": [
    "# action_recog-requirements\n",
    "\n",
    "# MMCV==1.3.6\n",
    "# opencv-python==4.5.5.64\n",
    "# tqdm\n",
    "\n",
    "# folder\n",
    "\n",
    "# mmaction\n",
    "# tools"
   ]
  },
  {
   "cell_type": "markdown",
   "id": "f1ee58e7",
   "metadata": {},
   "source": [
    "# 1. Analysis Engine \n",
    "## (from sogang-mmlab: JinhaSong/analysis-engine)\n",
    "   - engine list\n",
    "### hidf-engine-asr_main : Automatic Speech Recognition\n",
    "### hidf-engine-food_main : Food Detection(Yolov4 + Efficientnet)\n",
    "### hidf-engine-places_main : Places Recognition(Resnet)\n",
    "### hidf-engine-object_main : Object Detection(Efficientdet)\n",
    "### hidf-engine-scenetext_main : Scene text recognition\n",
    "   - engine address\n",
    "### hidf-engine-asr_main : http://mlamethyst.sogang.ac.kr:9002\n",
    "### hidf-engine-food_main : http://mlamethyst.sogang.ac.kr:10000\n",
    "### hidf-engine-places_main : http://mlamethyst.sogang.ac.kr:10001\n",
    "### hidf-engine-object_main : http://mlamethyst.sogang.ac.kr:11000\n",
    "### hidf-engine-scenetext_main : http://mlamethyst.sogang.ac.kr:12000"
   ]
  },
  {
   "cell_type": "code",
   "execution_count": 27,
   "id": "2dff78fd",
   "metadata": {},
   "outputs": [],
   "source": [
    "def analysis_engine_dir(module, video_dir, video_format, fps):\n",
    "    \n",
    "    \"\"\"\n",
    "    1. video_dir: string,  비디오 영상의 저장되어 있는 파일 경로, e.g) 'C:/Users/jcjo/Desktop/code/NotGit/Cook_Video_Analysis/Dataset/'\n",
    "    2. module: dictionary, 모듈 이름과 엔진 주소 번호, e.g) {'asr':9002, 'food':10000, 'places':10001, 'obj': 11000, 'scenetxt': 12000}\n",
    "    3. video_format: list, 비디오 확장자 리스트, e.g) ['mp4', 'avi']\n",
    "    4. fps: int, frame per second, e.g) 30\n",
    "    \"\"\"\n",
    "    \n",
    "    # engine-server communicator instance\n",
    "    com = communicator()\n",
    "\n",
    "    dir_list = os.listdir(video_dir)\n",
    "    dir_list = {d for d in dir_list for fom in video_format if fom in d}\n",
    "    \n",
    "    result_dir = []\n",
    "    \n",
    "    result_video={}\n",
    "    \n",
    "    for d in dir_list: #categories:\n",
    "    \n",
    "        print(f\"_____Video-name is {d}______\")\n",
    "    \n",
    "        result_module = {}\n",
    "    \n",
    "        for name, addr in module.items():\n",
    "\n",
    "            print(f\"{name}-engine is running\")\n",
    "\n",
    "            video_path = video_dir + d    \n",
    "\n",
    "            if name == 'asr': #asr(audio-speech-recognition) model cannot use temporarily\n",
    "                pass\n",
    "            else:\n",
    "                result = com.communicator_video(f\"http://mllime.sogang.ac.kr:{addr}/video/\", video_path, \"\", fps, \"\", \"\", \"video\") #30 : 30fps\n",
    "                result_module[name] = result\n",
    "        \n",
    "    result_video[d[:-4]] = result_module #[:4] : without format of video\n",
    "    \n",
    "    result_dir.append(result_video)\n",
    "    \n",
    "    return result_dir"
   ]
  },
  {
   "cell_type": "code",
   "execution_count": null,
   "id": "3adccc2a",
   "metadata": {},
   "outputs": [
    {
     "name": "stdout",
     "output_type": "stream",
     "text": [
      "_____Video-name is carae_woodong.mp4______\n",
      "scenetxt-engine is running\n",
      "food-engine is running\n",
      "_____Video-name is saewoogang.mp4______\n",
      "scenetxt-engine is running\n",
      "food-engine is running\n",
      "_____Video-name is dorirocos.mp4______\n",
      "scenetxt-engine is running\n",
      "food-engine is running\n",
      "_____Video-name is miyeok_gook.mp4______\n",
      "scenetxt-engine is running\n",
      "food-engine is running\n",
      "_____Video-name is myeongrang_gui.mp4______\n",
      "scenetxt-engine is running\n",
      "food-engine is running\n",
      "_____Video-name is gimchi_zigae.mp4______\n",
      "scenetxt-engine is running\n"
     ]
    }
   ],
   "source": [
    "# test\n",
    "\n",
    "video_dir = '/home/Cook_Video_Analysis/Dataset/test/'\n",
    "module = {'scenetxt': 12000, 'food':10000} #{'asr':9002, 'food':10000, 'places':10001, 'obj': 11000, 'scenetxt': 12000}\n",
    "video_format = ['mp4']\n",
    "fps = 30\n",
    "\n",
    "result = analysis_engine_dir(module, video_dir, video_format, fps)\n",
    "save_load_json(sav=True, data=result, file_path='./Dataset/engine_result/result9_30fps.json')"
   ]
  },
  {
   "cell_type": "code",
   "execution_count": 217,
   "id": "16904c32",
   "metadata": {},
   "outputs": [],
   "source": [
    "def analysis_engine(module, video_path, fps):\n",
    "    \n",
    "    \"\"\"\n",
    "    1. video_path: string,  비디오 영상의 저장되어 있는 파일 주소, e.g) 'C:/Users/jcjo/Desktop/code/NotGit/Cook_Video_Analysis/Dataset/meat.mp4'\n",
    "    2. module: dictionary, 모듈 이름과 엔진 주소 번호, e.g) {'asr':9002, 'food':10000, 'places':10001, 'obj': 11000, 'scenetxt': 12000}\n",
    "    3. video_format: list, 비디오 확장자 리스트, e.g) ['mp4', 'avi']\n",
    "    4. fps: int, frame per second, e.g) 30\n",
    "    \"\"\"\n",
    "    \n",
    "    # engine-server communicator instance\n",
    "    com = communicator()\n",
    "    \n",
    "    # video_name\n",
    "    video_name = Path(video_path).stem\n",
    "    \n",
    "    result={}\n",
    "    \n",
    "    result_category = {}\n",
    "    \n",
    "    for name, addr in module.items():\n",
    "\n",
    "        print(f\"{name}-engine is running\") \n",
    "\n",
    "        if name == 'asr': #asr(audio-speech-recognition) model cannot use temporarily\n",
    "            pass\n",
    "        else:\n",
    "            result_video = com.communicator_video(f\"http://mllime.sogang.ac.kr:{addr}/video/\", video_path, \"\", fps, \"\", \"\", \"video\") #30 : 30fps\n",
    "            result_category[name] = result_video\n",
    "        \n",
    "    result[video_name] = result_category\n",
    "    \n",
    "    return result"
   ]
  },
  {
   "cell_type": "code",
   "execution_count": null,
   "id": "69aa2377",
   "metadata": {},
   "outputs": [],
   "source": [
    "# test\n",
    "\n",
    "# module = {'food':10000, 'scenetxt': 12000} #{'asr':9002, 'food':10000, 'places':10001, 'obj': 11000, 'scenetxt': 12000}\n",
    "# video_path = '/home/Cook_Video_Analysis/Dataset/meat.mp4'\n",
    "# fps=30\n",
    "\n",
    "# result = analysis_engine(module, video_path, fps)"
   ]
  },
  {
   "cell_type": "code",
   "execution_count": null,
   "id": "a248fa09",
   "metadata": {},
   "outputs": [],
   "source": [
    "# example\n",
    "\n",
    "# print(result)\n",
    "\n",
    "# {'bundaegi': {'hy_scenetxt': {'model_name': 'scene_text_recognition',\n",
    "#    'analysis_time': 6322.094475984573,\n",
    "#    'frame_results': [{'frame_result': [{'label': [{'description': '박좆웑',\n",
    "#          'score': 0.9837325215339661}],\n",
    "#        'position': {'x': 96, 'y': 60, 'w': 309, 'h': 99}},\n",
    "#       {'label': [{'description': 'drunken', 'score': 0.9999628067016602}],\n",
    "#        'position': {'x': 144, 'y': 36, 'w': 96, 'h': 18}},\n",
    "#       {'label': [{'description': 'talk', 'score': 0.9999697208404541}],\n",
    "#        'position': {'x': 243, 'y': 36, 'w': 51, 'h': 18}},\n",
    "#       {'label': [{'description': 'show', 'score': 0.9999678134918213}],\n",
    "#        'position': {'x': 294, 'y': 36, 'w': 66, 'h': 18}}],\n",
    "#      'frame_url': '/media/20220804/bundaegi/1.jpg',\n",
    "#      'frame_number': 30,\n",
    "#      'timestamp': '0:00:01'},\n",
    "#     {'frame_result': [{'label': [{'description': '박좆웑',\n",
    "#          'score': 0.9856455326080322}],\n",
    "#        'position': {'x': 96, 'y': 60, 'w': 309, 'h': 99}},\n",
    "#       {'label': [{'description': 'drunken', 'score': 0.9999593496322632}],\n",
    "#        'position': {'x': 144, 'y': 36, 'w': 96, 'h': 18}},\n",
    "#       {'label': [{'description': 'talk', 'score': 0.999971866607666}],\n",
    "#        'position': {'x': 243, 'y': 36, 'w': 51, 'h': 18}},\n",
    "#       {'label': [{'description': 'show', 'score': 0.9999687671661377}],\n",
    "#        'position': {'x': 294, 'y': 36, 'w': 66, 'h': 18}}],\n",
    "#      'frame_url': '/media/20220804/bundaegi/2.jpg',\n",
    "#      'frame_number': 60,\n",
    "#      'timestamp': '0:00:02'},"
   ]
  },
  {
   "cell_type": "markdown",
   "id": "075fbd9b",
   "metadata": {},
   "source": [
    "   - Save& Load result\n",
    "      - json"
   ]
  },
  {
   "cell_type": "code",
   "execution_count": 19,
   "id": "2aef8662",
   "metadata": {},
   "outputs": [],
   "source": [
    "def save_load_json(file_path, sav = True, data=None):\n",
    "    \n",
    "    \"\"\"\n",
    "    1. sav: bool, default: True, 저장할 때 True, 불러올 때 False, e.g) sav=True(save)/ sav=False(load)\n",
    "    2. file_path: str, 저장시 저장 파일 경로, 불러올 시 불러오는 파일 경로, e.g) '/Cook_Video_Analysis/Dataset/engine_result/meat.json'\n",
    "    3. data: list, default=None, 저장할(if sav=True) 데이터, e.g) result (= analysis_engine(module. video_dir, video_format))\n",
    "    \"\"\"\n",
    "    \n",
    "    video_name = Path(file_path).stem\n",
    "    \n",
    "    if sav:\n",
    "        with open(file_path, 'w', encoding='utf-8') as outfile:\n",
    "            json.dump(data, outfile, indent=4, ensure_ascii=False) # indent: 들여쓰기(가독성)/ ensure_ascii=False : 아스키 코드 -> 유니코드\n",
    "            \n",
    "        print(f\"{video_name} save done.\")\n",
    "    else: #load\n",
    "        with open(file_path, \"r\") as json_file:\n",
    "            json_data = json.load(json_file)\n",
    "        print(f\"{video_name} load done.\")\n",
    "        return json_data"
   ]
  },
  {
   "cell_type": "code",
   "execution_count": null,
   "id": "fccef37d",
   "metadata": {},
   "outputs": [],
   "source": [
    "#load result\n",
    "\n",
    "# result_30 = save_load_json(sav=False, file_path='./Dataset/engine_result/result_30fps.json')"
   ]
  },
  {
   "cell_type": "markdown",
   "id": "4435ebb5",
   "metadata": {},
   "source": [
    "# 2. Vision Analysis\n",
    "- Classification\n",
    "### - food classification\n",
    "   - YOLOv4: MS COCO Dataset (related with food) e.g) 'bowl', ‘wine glass’, ‘cup’, ‘fork’, knife’, ‘spoon’…\n",
    "   - EfficinetNet: AI hub, KIST (주)휴먼ICT, 2017, 한국 이미지(음식), \n",
    "   source link: https://aihub.or.kr/aihubdata/data/view.do?currMenu=115&topMenu=100&aihubDataSe=realm&dataSetSn=79\n",
    "<br/><br/>\n",
    "- Action_recognition\n",
    "### - MMAction2\n",
    "   - Kinetics400\n",
    "   - label related with food e.g) ‘cooking egg’, ‘cooking chicken’, 'breading or breadcrumbing' …"
   ]
  },
  {
   "cell_type": "code",
   "execution_count": 181,
   "id": "c38dbcdf",
   "metadata": {},
   "outputs": [],
   "source": [
    "# preprocess result by score\n",
    "def preprocess(data, score, video_name, module_name):\n",
    "    \n",
    "    \"\"\"\n",
    "    1. data: json, analysis-engine 결과 data e.g) e.g) result (= analysis_engine(module. video_dir, video_format))\n",
    "    2. score: int, result score 값으로 몇 점 이상으로 filter 할 것인지 e.g) 90(food: 0-100), 0.9(obj, scenetxt, places:0-1)\n",
    "    3. video_name: str, 파일 확장자를 제외한 비디오 이름 e.g) egg.mp4 -> egg\n",
    "    4. module_name: str, module.keys() 참고 e.g) module.keys():{'food', 'obj', 'scenetxt', 'places', 'asr'} -> module_name='food'\n",
    "    \"\"\"\n",
    "\n",
    "    label_list = []\n",
    "\n",
    "    for fr_results in data[video_name][module_name]['frame_results']:\n",
    "        if (fr_results['frame_result'] != None):\n",
    "\n",
    "            for i in range(0, len(fr_results['frame_result'])): #객체 수만큼 draw\n",
    "\n",
    "                if fr_results['frame_result'][i]['label'][0]['score'] > score:\n",
    "\n",
    "                    label = fr_results['frame_result'][i]['label'][0]['description']\n",
    "                    label_list.append(label)\n",
    "    return label_list"
   ]
  },
  {
   "cell_type": "code",
   "execution_count": 168,
   "id": "3901f36d",
   "metadata": {},
   "outputs": [
    {
     "data": {
      "text/plain": [
       "'조림/메추리알장조림'"
      ]
     },
     "execution_count": 168,
     "metadata": {},
     "output_type": "execute_result"
    }
   ],
   "source": [
    "# Test\n",
    "### analysis food_classfication - Top1 Tag ###\n",
    "\n",
    "# egg_food = preprocess(data=result_30, score=90, video_name='egg', module_name='food')\n",
    "# pd.Series(egg_food).value_counts().index[0]"
   ]
  },
  {
   "cell_type": "code",
   "execution_count": null,
   "id": "65cdf3f7",
   "metadata": {},
   "outputs": [],
   "source": [
    "def splitter(video_path, segment_sec, sav_dir, fourcc):\n",
    "    \n",
    "    \"\"\"\n",
    "    1. video_path : str, 구간 분할할 영상 경로 e.g) '/home/Cook_Video_Analysis/Dataset/meat.mp4'\n",
    "    2. segment_sec: int, 몇 초씩 구간 분할을 할 것인지 e.g) 10\n",
    "    3. sav_dir: str, 저장할 경로 e.g) '/home/Cook_Video_Analysis/Dataset/segment/'\n",
    "    4. fourcc: str, four character code : 코덱, 압축 방식, 색상, 픽셀 포맷 등을 정의하는 정수 값 e.g) 'mp4v'\n",
    "    \"\"\"\n",
    "    \n",
    "    vc = cv2.VideoCapture(video_path)\n",
    "    \n",
    "    # check whether video can be opened or not\n",
    "    if not vc.isOpened():\n",
    "\n",
    "        print(\"fail to open video\")\n",
    "\n",
    "    else:\n",
    "        \n",
    "        # read first frame of video\n",
    "        ret, frame = vc.read()\n",
    "        h, w, _ = frame.shape\n",
    "\n",
    "        fps = round(vc.get(cv2.CAP_PROP_FPS))\n",
    "        # step: frame number of 1 segment\n",
    "        step = segment_sec * fps\n",
    "        frame_num = round(vc.get(cv2.CAP_PROP_FRAME_COUNT))\n",
    "        out_frame_num = frame_num // step + 1 # +1: 나머지 frame을 1개로 추가\n",
    "        \n",
    "        fourcc = cv2.VideoWriter_fourcc(*fourcc)\n",
    "        \n",
    "        # save directory\n",
    "        os.makedirs(f\"{sav_dir}{Path(video_path).stem}\", exist_ok=True)\n",
    "        \n",
    "        # how to write video\n",
    "        video_name = Path(video_path).stem\n",
    "        writers = [cv2.VideoWriter(f\"{sav_dir}{Path(video_path).stem}/{video_name}_{i}.mp4\", fourcc, fps, (w,h)) for i in range(1, out_frame_num+1)]\n",
    "\n",
    "        f = 0\n",
    "        \n",
    "        # frame을 받아올 수 있을 때까지\n",
    "        while ret:\n",
    "            f += 1\n",
    "    \n",
    "            for i, start in enumerate(range(1, frame_num, step)):\n",
    "                end = start+step\n",
    "                if start <= f < end:\n",
    "                    writers[i].write(frame)\n",
    "            # next frame\n",
    "            ret, frame = vc.read()\n",
    "        # 자원 해제\n",
    "        for writer in writers:\n",
    "            writer.release()\n",
    "\n",
    "        vc.release()\n",
    "        print('split done.')"
   ]
  },
  {
   "cell_type": "code",
   "execution_count": null,
   "id": "27f1f6e6",
   "metadata": {},
   "outputs": [],
   "source": [
    "def action_recognition(video_path, sav_dir, config_file, checkpoint_file, device, topk, split=False, segment_sec=None, fourcc=None):\n",
    "    \n",
    "    \"\"\"\n",
    "    1. video_path: str, action_recognition 돌릴 영상 주소 e.g) '/home/Cook_Video_Analysis/Dataset/meat.mp4'\n",
    "    2. sav_dir: str, 구간 분할한 영상 저장할 경로 e.g) '/home/Cook_Video_Analysis/Dataset/segment/'\n",
    "    3. config_file: str, action_recognition config(module) e.g) 'configs/recognition/tsn/tsn_r50_video_inference_1x1x3_100e_kinetics400_rgb.py'\n",
    "    4. checkpoints_file: str, weight check point 주소 e.g) 'checkpoints/tsn_r50_1x1x3_100e_kinetics400_rgb_20200614-e508be42.pth'\n",
    "    5. device: str, 사용할 device e.g) 'cuda:0' or 'cpu'\n",
    "    6. topk: int, 몇 개의 빈도수 상위 태그를 뽑을 것인지 e.g) 3\n",
    "    7. split: bool, default=False, 영상 분할을 할 것인지, False시 통 영상 채로 분석 결과 도출 e.g) False\n",
    "    8. segment_sec: int, default=None, 몇 초씩 구간 분할을 할 것인지 e.g) 10\n",
    "    9. fourcc: str, default=None, four character code : 코덱, 압축 방식, 색상, 픽셀 포맷 등을 정의하는 정수 값 e.g) 'mp4v'\n",
    "    \"\"\"\n",
    "    \n",
    "    # sort segment in ascending order\n",
    "    video_name = Path(video_path).stem\n",
    "    \n",
    "    # assign the desired device.\n",
    "    device = torch.device(device)\n",
    "    \n",
    "    # build the model from a config file and a checkpoint file\n",
    "    model = init_recognizer(config_file, checkpoint_file, device=device)\n",
    "    \n",
    "    # label open\n",
    "    labels = open('tools/data/kinetics/label_map_k400.txt').readlines()\n",
    "    labels = [x.strip() for x in labels]\n",
    "    \n",
    "    # split video into segments, and output\n",
    "    if split:\n",
    "        splitter(video_path, segment_sec, sav_dir, fourcc)\n",
    "\n",
    "        seg_list = os.listdir(f'{sav_dir}{video_name}/')\n",
    "        seg_sort = sorted(seg_list, key = lambda x: int(Path(x).stem[len(video_name)+1:]))\n",
    "    \n",
    "        results_dict = {}\n",
    "\n",
    "        # action recognition execute with seg videoes\n",
    "        for name in tqdm(seg_sort):\n",
    "            video = f'{sav_dir}{video_name}/{name}'\n",
    "            print(name)\n",
    "            results = inference_recognizer(model, video)\n",
    "\n",
    "            # results\n",
    "            results = [(labels[k[0]], k[1]) for k in results]\n",
    "            results_dict[name] = results\n",
    "        \n",
    "        # analysis result by value count\n",
    "        results_count = {}\n",
    "\n",
    "        for key in results_dict.keys():\n",
    "\n",
    "            for label, score in results_dict[key]:\n",
    "\n",
    "                if label in results_count:\n",
    "                    results_count[label] += score\n",
    "                else:\n",
    "                    results_count[label] = score\n",
    "                    \n",
    "        # topk label tag list\n",
    "        topk_tags = [label[0] for label in sorted(results_count.items(), key = lambda x: -x[1])[:topk]]\n",
    "        \n",
    "    else: # not split video output\n",
    "        results = inference_recognizer(model, video=video_path)\n",
    "        topk_tags = [labels[k[0]] for k in results[:topk]]\n",
    "        \n",
    "    return topk_tags"
   ]
  },
  {
   "cell_type": "code",
   "execution_count": 166,
   "id": "10a91e8f",
   "metadata": {
    "collapsed": true
   },
   "outputs": [
    {
     "name": "stderr",
     "output_type": "stream",
     "text": [
      "\r",
      "  0%|                                                                                         | 0/63 [00:00<?, ?it/s]"
     ]
    },
    {
     "name": "stdout",
     "output_type": "stream",
     "text": [
      "Use load_from_local loader\n",
      "meat_1.mp4\n"
     ]
    },
    {
     "name": "stderr",
     "output_type": "stream",
     "text": [
      "\r",
      "  2%|█▎                                                                               | 1/63 [00:01<01:43,  1.67s/it]"
     ]
    },
    {
     "name": "stdout",
     "output_type": "stream",
     "text": [
      "meat_2.mp4\n"
     ]
    },
    {
     "name": "stderr",
     "output_type": "stream",
     "text": [
      "\r",
      "  3%|██▌                                                                              | 2/63 [00:03<01:40,  1.65s/it]"
     ]
    },
    {
     "name": "stdout",
     "output_type": "stream",
     "text": [
      "meat_3.mp4\n"
     ]
    },
    {
     "name": "stderr",
     "output_type": "stream",
     "text": [
      "\r",
      "  5%|███▊                                                                             | 3/63 [00:04<01:37,  1.62s/it]"
     ]
    },
    {
     "name": "stdout",
     "output_type": "stream",
     "text": [
      "meat_4.mp4\n"
     ]
    },
    {
     "name": "stderr",
     "output_type": "stream",
     "text": [
      "\r",
      "  6%|█████▏                                                                           | 4/63 [00:06<01:34,  1.60s/it]"
     ]
    },
    {
     "name": "stdout",
     "output_type": "stream",
     "text": [
      "meat_5.mp4\n"
     ]
    },
    {
     "name": "stderr",
     "output_type": "stream",
     "text": [
      "\r",
      "  8%|██████▍                                                                          | 5/63 [00:07<01:32,  1.60s/it]"
     ]
    },
    {
     "name": "stdout",
     "output_type": "stream",
     "text": [
      "meat_6.mp4\n"
     ]
    },
    {
     "name": "stderr",
     "output_type": "stream",
     "text": [
      "\r",
      " 10%|███████▋                                                                         | 6/63 [00:09<01:30,  1.60s/it]"
     ]
    },
    {
     "name": "stdout",
     "output_type": "stream",
     "text": [
      "meat_7.mp4\n"
     ]
    },
    {
     "name": "stderr",
     "output_type": "stream",
     "text": [
      "\r",
      " 11%|█████████                                                                        | 7/63 [00:11<01:27,  1.57s/it]"
     ]
    },
    {
     "name": "stdout",
     "output_type": "stream",
     "text": [
      "meat_8.mp4\n"
     ]
    },
    {
     "name": "stderr",
     "output_type": "stream",
     "text": [
      "\r",
      " 13%|██████████▎                                                                      | 8/63 [00:12<01:26,  1.57s/it]"
     ]
    },
    {
     "name": "stdout",
     "output_type": "stream",
     "text": [
      "meat_9.mp4\n"
     ]
    },
    {
     "name": "stderr",
     "output_type": "stream",
     "text": [
      "\r",
      " 14%|███████████▌                                                                     | 9/63 [00:14<01:24,  1.56s/it]"
     ]
    },
    {
     "name": "stdout",
     "output_type": "stream",
     "text": [
      "meat_10.mp4\n"
     ]
    },
    {
     "name": "stderr",
     "output_type": "stream",
     "text": [
      "\r",
      " 16%|████████████▋                                                                   | 10/63 [00:15<01:21,  1.54s/it]"
     ]
    },
    {
     "name": "stdout",
     "output_type": "stream",
     "text": [
      "meat_11.mp4\n"
     ]
    },
    {
     "name": "stderr",
     "output_type": "stream",
     "text": [
      "\r",
      " 17%|█████████████▉                                                                  | 11/63 [00:17<01:20,  1.54s/it]"
     ]
    },
    {
     "name": "stdout",
     "output_type": "stream",
     "text": [
      "meat_12.mp4\n"
     ]
    },
    {
     "name": "stderr",
     "output_type": "stream",
     "text": [
      "\r",
      " 19%|███████████████▏                                                                | 12/63 [00:18<01:18,  1.54s/it]"
     ]
    },
    {
     "name": "stdout",
     "output_type": "stream",
     "text": [
      "meat_13.mp4\n"
     ]
    },
    {
     "name": "stderr",
     "output_type": "stream",
     "text": [
      "\r",
      " 21%|████████████████▌                                                               | 13/63 [00:20<01:16,  1.53s/it]"
     ]
    },
    {
     "name": "stdout",
     "output_type": "stream",
     "text": [
      "meat_14.mp4\n"
     ]
    },
    {
     "name": "stderr",
     "output_type": "stream",
     "text": [
      "\r",
      " 22%|█████████████████▊                                                              | 14/63 [00:21<01:14,  1.52s/it]"
     ]
    },
    {
     "name": "stdout",
     "output_type": "stream",
     "text": [
      "meat_15.mp4\n"
     ]
    },
    {
     "name": "stderr",
     "output_type": "stream",
     "text": [
      "\r",
      " 24%|███████████████████                                                             | 15/63 [00:23<01:13,  1.52s/it]"
     ]
    },
    {
     "name": "stdout",
     "output_type": "stream",
     "text": [
      "meat_16.mp4\n"
     ]
    },
    {
     "name": "stderr",
     "output_type": "stream",
     "text": [
      "\r",
      " 25%|████████████████████▎                                                           | 16/63 [00:24<01:13,  1.56s/it]"
     ]
    },
    {
     "name": "stdout",
     "output_type": "stream",
     "text": [
      "meat_17.mp4\n"
     ]
    },
    {
     "name": "stderr",
     "output_type": "stream",
     "text": [
      "\r",
      " 27%|█████████████████████▌                                                          | 17/63 [00:26<01:11,  1.55s/it]"
     ]
    },
    {
     "name": "stdout",
     "output_type": "stream",
     "text": [
      "meat_18.mp4\n"
     ]
    },
    {
     "name": "stderr",
     "output_type": "stream",
     "text": [
      "\r",
      " 29%|██████████████████████▊                                                         | 18/63 [00:28<01:10,  1.56s/it]"
     ]
    },
    {
     "name": "stdout",
     "output_type": "stream",
     "text": [
      "meat_19.mp4\n"
     ]
    },
    {
     "name": "stderr",
     "output_type": "stream",
     "text": [
      "\r",
      " 30%|████████████████████████▏                                                       | 19/63 [00:29<01:08,  1.56s/it]"
     ]
    },
    {
     "name": "stdout",
     "output_type": "stream",
     "text": [
      "meat_20.mp4\n"
     ]
    },
    {
     "name": "stderr",
     "output_type": "stream",
     "text": [
      "\r",
      " 32%|█████████████████████████▍                                                      | 20/63 [00:31<01:06,  1.55s/it]"
     ]
    },
    {
     "name": "stdout",
     "output_type": "stream",
     "text": [
      "meat_21.mp4\n"
     ]
    },
    {
     "name": "stderr",
     "output_type": "stream",
     "text": [
      "\r",
      " 33%|██████████████████████████▋                                                     | 21/63 [00:32<01:05,  1.55s/it]"
     ]
    },
    {
     "name": "stdout",
     "output_type": "stream",
     "text": [
      "meat_22.mp4\n"
     ]
    },
    {
     "name": "stderr",
     "output_type": "stream",
     "text": [
      "\r",
      " 35%|███████████████████████████▉                                                    | 22/63 [00:34<01:03,  1.56s/it]"
     ]
    },
    {
     "name": "stdout",
     "output_type": "stream",
     "text": [
      "meat_23.mp4\n"
     ]
    },
    {
     "name": "stderr",
     "output_type": "stream",
     "text": [
      "\r",
      " 37%|█████████████████████████████▏                                                  | 23/63 [00:35<01:02,  1.55s/it]"
     ]
    },
    {
     "name": "stdout",
     "output_type": "stream",
     "text": [
      "meat_24.mp4\n"
     ]
    },
    {
     "name": "stderr",
     "output_type": "stream",
     "text": [
      "\r",
      " 38%|██████████████████████████████▍                                                 | 24/63 [00:37<01:00,  1.56s/it]"
     ]
    },
    {
     "name": "stdout",
     "output_type": "stream",
     "text": [
      "meat_25.mp4\n"
     ]
    },
    {
     "name": "stderr",
     "output_type": "stream",
     "text": [
      "\r",
      " 40%|███████████████████████████████▋                                                | 25/63 [00:38<00:58,  1.55s/it]"
     ]
    },
    {
     "name": "stdout",
     "output_type": "stream",
     "text": [
      "meat_26.mp4\n"
     ]
    },
    {
     "name": "stderr",
     "output_type": "stream",
     "text": [
      "\r",
      " 41%|█████████████████████████████████                                               | 26/63 [00:40<00:56,  1.54s/it]"
     ]
    },
    {
     "name": "stdout",
     "output_type": "stream",
     "text": [
      "meat_27.mp4\n"
     ]
    },
    {
     "name": "stderr",
     "output_type": "stream",
     "text": [
      "\r",
      " 43%|██████████████████████████████████▎                                             | 27/63 [00:42<00:56,  1.56s/it]"
     ]
    },
    {
     "name": "stdout",
     "output_type": "stream",
     "text": [
      "meat_28.mp4\n"
     ]
    },
    {
     "name": "stderr",
     "output_type": "stream",
     "text": [
      "\r",
      " 44%|███████████████████████████████████▌                                            | 28/63 [00:43<00:54,  1.56s/it]"
     ]
    },
    {
     "name": "stdout",
     "output_type": "stream",
     "text": [
      "meat_29.mp4\n"
     ]
    },
    {
     "name": "stderr",
     "output_type": "stream",
     "text": [
      "\r",
      " 46%|████████████████████████████████████▊                                           | 29/63 [00:45<00:51,  1.53s/it]"
     ]
    },
    {
     "name": "stdout",
     "output_type": "stream",
     "text": [
      "meat_30.mp4\n"
     ]
    },
    {
     "name": "stderr",
     "output_type": "stream",
     "text": [
      "\r",
      " 48%|██████████████████████████████████████                                          | 30/63 [00:46<00:50,  1.54s/it]"
     ]
    },
    {
     "name": "stdout",
     "output_type": "stream",
     "text": [
      "meat_31.mp4\n"
     ]
    },
    {
     "name": "stderr",
     "output_type": "stream",
     "text": [
      "\r",
      " 49%|███████████████████████████████████████▎                                        | 31/63 [00:48<00:48,  1.53s/it]"
     ]
    },
    {
     "name": "stdout",
     "output_type": "stream",
     "text": [
      "meat_32.mp4\n"
     ]
    },
    {
     "name": "stderr",
     "output_type": "stream",
     "text": [
      "\r",
      " 51%|████████████████████████████████████████▋                                       | 32/63 [00:49<00:47,  1.54s/it]"
     ]
    },
    {
     "name": "stdout",
     "output_type": "stream",
     "text": [
      "meat_33.mp4\n"
     ]
    },
    {
     "name": "stderr",
     "output_type": "stream",
     "text": [
      "\r",
      " 52%|█████████████████████████████████████████▉                                      | 33/63 [00:51<00:45,  1.53s/it]"
     ]
    },
    {
     "name": "stdout",
     "output_type": "stream",
     "text": [
      "meat_34.mp4\n"
     ]
    },
    {
     "name": "stderr",
     "output_type": "stream",
     "text": [
      "\r",
      " 54%|███████████████████████████████████████████▏                                    | 34/63 [00:52<00:44,  1.54s/it]"
     ]
    },
    {
     "name": "stdout",
     "output_type": "stream",
     "text": [
      "meat_35.mp4\n"
     ]
    },
    {
     "name": "stderr",
     "output_type": "stream",
     "text": [
      "\r",
      " 56%|████████████████████████████████████████████▍                                   | 35/63 [00:54<00:43,  1.54s/it]"
     ]
    },
    {
     "name": "stdout",
     "output_type": "stream",
     "text": [
      "meat_36.mp4\n"
     ]
    },
    {
     "name": "stderr",
     "output_type": "stream",
     "text": [
      "\r",
      " 57%|█████████████████████████████████████████████▋                                  | 36/63 [00:55<00:41,  1.55s/it]"
     ]
    },
    {
     "name": "stdout",
     "output_type": "stream",
     "text": [
      "meat_37.mp4\n"
     ]
    },
    {
     "name": "stderr",
     "output_type": "stream",
     "text": [
      "\r",
      " 59%|██████████████████████████████████████████████▉                                 | 37/63 [00:57<00:40,  1.55s/it]"
     ]
    },
    {
     "name": "stdout",
     "output_type": "stream",
     "text": [
      "meat_38.mp4\n"
     ]
    },
    {
     "name": "stderr",
     "output_type": "stream",
     "text": [
      "\r",
      " 60%|████████████████████████████████████████████████▎                               | 38/63 [00:58<00:38,  1.55s/it]"
     ]
    },
    {
     "name": "stdout",
     "output_type": "stream",
     "text": [
      "meat_39.mp4\n"
     ]
    },
    {
     "name": "stderr",
     "output_type": "stream",
     "text": [
      "\r",
      " 62%|█████████████████████████████████████████████████▌                              | 39/63 [01:00<00:37,  1.57s/it]"
     ]
    },
    {
     "name": "stdout",
     "output_type": "stream",
     "text": [
      "meat_40.mp4\n"
     ]
    },
    {
     "name": "stderr",
     "output_type": "stream",
     "text": [
      "\r",
      " 63%|██████████████████████████████████████████████████▊                             | 40/63 [01:02<00:35,  1.55s/it]"
     ]
    },
    {
     "name": "stdout",
     "output_type": "stream",
     "text": [
      "meat_41.mp4\n"
     ]
    },
    {
     "name": "stderr",
     "output_type": "stream",
     "text": [
      "\r",
      " 65%|████████████████████████████████████████████████████                            | 41/63 [01:03<00:34,  1.55s/it]"
     ]
    },
    {
     "name": "stdout",
     "output_type": "stream",
     "text": [
      "meat_42.mp4\n"
     ]
    },
    {
     "name": "stderr",
     "output_type": "stream",
     "text": [
      "\r",
      " 67%|█████████████████████████████████████████████████████▎                          | 42/63 [01:05<00:32,  1.56s/it]"
     ]
    },
    {
     "name": "stdout",
     "output_type": "stream",
     "text": [
      "meat_43.mp4\n"
     ]
    },
    {
     "name": "stderr",
     "output_type": "stream",
     "text": [
      "\r",
      " 68%|██████████████████████████████████████████████████████▌                         | 43/63 [01:06<00:31,  1.56s/it]"
     ]
    },
    {
     "name": "stdout",
     "output_type": "stream",
     "text": [
      "meat_44.mp4\n"
     ]
    },
    {
     "name": "stderr",
     "output_type": "stream",
     "text": [
      "\r",
      " 70%|███████████████████████████████████████████████████████▊                        | 44/63 [01:08<00:29,  1.55s/it]"
     ]
    },
    {
     "name": "stdout",
     "output_type": "stream",
     "text": [
      "meat_45.mp4\n"
     ]
    },
    {
     "name": "stderr",
     "output_type": "stream",
     "text": [
      "\r",
      " 71%|█████████████████████████████████████████████████████████▏                      | 45/63 [01:09<00:28,  1.56s/it]"
     ]
    },
    {
     "name": "stdout",
     "output_type": "stream",
     "text": [
      "meat_46.mp4\n"
     ]
    },
    {
     "name": "stderr",
     "output_type": "stream",
     "text": [
      "\r",
      " 73%|██████████████████████████████████████████████████████████▍                     | 46/63 [01:11<00:26,  1.55s/it]"
     ]
    },
    {
     "name": "stdout",
     "output_type": "stream",
     "text": [
      "meat_47.mp4\n"
     ]
    },
    {
     "name": "stderr",
     "output_type": "stream",
     "text": [
      "\r",
      " 75%|███████████████████████████████████████████████████████████▋                    | 47/63 [01:13<00:24,  1.56s/it]"
     ]
    },
    {
     "name": "stdout",
     "output_type": "stream",
     "text": [
      "meat_48.mp4\n"
     ]
    },
    {
     "name": "stderr",
     "output_type": "stream",
     "text": [
      "\r",
      " 76%|████████████████████████████████████████████████████████████▉                   | 48/63 [01:14<00:23,  1.55s/it]"
     ]
    },
    {
     "name": "stdout",
     "output_type": "stream",
     "text": [
      "meat_49.mp4\n"
     ]
    },
    {
     "name": "stderr",
     "output_type": "stream",
     "text": [
      "\r",
      " 78%|██████████████████████████████████████████████████████████████▏                 | 49/63 [01:16<00:21,  1.55s/it]"
     ]
    },
    {
     "name": "stdout",
     "output_type": "stream",
     "text": [
      "meat_50.mp4\n"
     ]
    },
    {
     "name": "stderr",
     "output_type": "stream",
     "text": [
      "\r",
      " 79%|███████████████████████████████████████████████████████████████▍                | 50/63 [01:17<00:20,  1.56s/it]"
     ]
    },
    {
     "name": "stdout",
     "output_type": "stream",
     "text": [
      "meat_51.mp4\n"
     ]
    },
    {
     "name": "stderr",
     "output_type": "stream",
     "text": [
      "\r",
      " 81%|████████████████████████████████████████████████████████████████▊               | 51/63 [01:19<00:18,  1.56s/it]"
     ]
    },
    {
     "name": "stdout",
     "output_type": "stream",
     "text": [
      "meat_52.mp4\n"
     ]
    },
    {
     "name": "stderr",
     "output_type": "stream",
     "text": [
      "\r",
      " 83%|██████████████████████████████████████████████████████████████████              | 52/63 [01:20<00:17,  1.55s/it]"
     ]
    },
    {
     "name": "stdout",
     "output_type": "stream",
     "text": [
      "meat_53.mp4\n"
     ]
    },
    {
     "name": "stderr",
     "output_type": "stream",
     "text": [
      "\r",
      " 84%|███████████████████████████████████████████████████████████████████▎            | 53/63 [01:22<00:15,  1.55s/it]"
     ]
    },
    {
     "name": "stdout",
     "output_type": "stream",
     "text": [
      "meat_54.mp4\n"
     ]
    },
    {
     "name": "stderr",
     "output_type": "stream",
     "text": [
      "\r",
      " 86%|████████████████████████████████████████████████████████████████████▌           | 54/63 [01:23<00:14,  1.56s/it]"
     ]
    },
    {
     "name": "stdout",
     "output_type": "stream",
     "text": [
      "meat_55.mp4\n"
     ]
    },
    {
     "name": "stderr",
     "output_type": "stream",
     "text": [
      "\r",
      " 87%|█████████████████████████████████████████████████████████████████████▊          | 55/63 [01:25<00:12,  1.56s/it]"
     ]
    },
    {
     "name": "stdout",
     "output_type": "stream",
     "text": [
      "meat_56.mp4\n"
     ]
    },
    {
     "name": "stderr",
     "output_type": "stream",
     "text": [
      "\r",
      " 89%|███████████████████████████████████████████████████████████████████████         | 56/63 [01:27<00:10,  1.56s/it]"
     ]
    },
    {
     "name": "stdout",
     "output_type": "stream",
     "text": [
      "meat_57.mp4\n"
     ]
    },
    {
     "name": "stderr",
     "output_type": "stream",
     "text": [
      "\r",
      " 90%|████████████████████████████████████████████████████████████████████████▍       | 57/63 [01:28<00:09,  1.56s/it]"
     ]
    },
    {
     "name": "stdout",
     "output_type": "stream",
     "text": [
      "meat_58.mp4\n"
     ]
    },
    {
     "name": "stderr",
     "output_type": "stream",
     "text": [
      "\r",
      " 92%|█████████████████████████████████████████████████████████████████████████▋      | 58/63 [01:30<00:07,  1.54s/it]"
     ]
    },
    {
     "name": "stdout",
     "output_type": "stream",
     "text": [
      "meat_59.mp4\n"
     ]
    },
    {
     "name": "stderr",
     "output_type": "stream",
     "text": [
      "\r",
      " 94%|██████████████████████████████████████████████████████████████████████████▉     | 59/63 [01:31<00:06,  1.55s/it]"
     ]
    },
    {
     "name": "stdout",
     "output_type": "stream",
     "text": [
      "meat_60.mp4\n"
     ]
    },
    {
     "name": "stderr",
     "output_type": "stream",
     "text": [
      "\r",
      " 95%|████████████████████████████████████████████████████████████████████████████▏   | 60/63 [01:33<00:04,  1.55s/it]"
     ]
    },
    {
     "name": "stdout",
     "output_type": "stream",
     "text": [
      "meat_61.mp4\n"
     ]
    },
    {
     "name": "stderr",
     "output_type": "stream",
     "text": [
      "\r",
      " 97%|█████████████████████████████████████████████████████████████████████████████▍  | 61/63 [01:34<00:03,  1.55s/it]"
     ]
    },
    {
     "name": "stdout",
     "output_type": "stream",
     "text": [
      "meat_62.mp4\n"
     ]
    },
    {
     "name": "stderr",
     "output_type": "stream",
     "text": [
      "\r",
      " 98%|██████████████████████████████████████████████████████████████████████████████▋ | 62/63 [01:36<00:01,  1.54s/it]"
     ]
    },
    {
     "name": "stdout",
     "output_type": "stream",
     "text": [
      "meat_63.mp4\n"
     ]
    },
    {
     "name": "stderr",
     "output_type": "stream",
     "text": [
      "100%|████████████████████████████████████████████████████████████████████████████████| 63/63 [01:37<00:00,  1.55s/it]\n"
     ]
    },
    {
     "data": {
      "text/plain": [
       "['barbequing', 'cooking chicken', 'changing oil']"
      ]
     },
     "execution_count": 166,
     "metadata": {},
     "output_type": "execute_result"
    }
   ],
   "source": [
    "# test\n",
    "\n",
    "# video_path = '/home/Cook_Video_Analysis/Dataset/meat.mp4'\n",
    "# sav_dir = '/home/Cook_Video_Analysis/Dataset/segment/'\n",
    "# config_file = 'configs/recognition/tsn/tsn_r50_video_inference_1x1x3_100e_kinetics400_rgb.py'\n",
    "# checkpoint_file = 'checkpoints/tsn_r50_1x1x3_100e_kinetics400_rgb_20200614-e508be42.pth'\n",
    "# device = 'cuda:0' if torch.cuda.is_available() else 'cpu'\n",
    "# topk=3\n",
    "# segment_sec = 10\n",
    "# fourcc = 'mp4v'\n",
    "\n",
    "# meat_tags = action_recognition(video_path, sav_dir, config_file, checkpoint_file, device, topk)\n",
    "# meat_tags"
   ]
  },
  {
   "cell_type": "markdown",
   "id": "7b94fdb4",
   "metadata": {},
   "source": [
    "# 3. Text Analysis\n",
    "- Segmentation of Video\n",
    "### - font_height_to_segmentation\n",
    "   - 편집자가 편집할 때, 특정 장면에 특정 자막을 사용한다.\n",
    "   - 특히, 자막의 높이가 고유한 값으로, 이를 통해 구간 분할 및 태그 목록을 생성한다.\n",
    "   - 거꾸로, 편집을 할 때, 분할하고자 하는 지점에는 특정한 크기의 자막을 달도록 할 수 있다.\n",
    "<br/><br/>\n",
    "- Ingredient Tags\n",
    "### - text_simple_match\n",
    "   - filtered by whether they are completely matched or not, e.g) '메추리알' == '메추리알 : True, '메치루알' != '메추리알': False\n",
    "   - matching Ingredient DB (source: 소스산업화센터, 식재료 DB, https://sauce.foodpolis.kr/home/index.do)"
   ]
  },
  {
   "cell_type": "code",
   "execution_count": 173,
   "id": "de70e9ca",
   "metadata": {},
   "outputs": [],
   "source": [
    "def frame_to_time(frame, fps):\n",
    "    \"\"\"\n",
    "    1. frame: int, frame number, e.g) 2958\n",
    "    2. fps: int, frame per second, e.g) 30\n",
    "    \"\"\"\n",
    "    sec = frame/fps\n",
    "    minute = int(sec // 60)\n",
    "    min_sec = sec % 60\n",
    "    return (minute, int(min_sec))"
   ]
  },
  {
   "cell_type": "code",
   "execution_count": 174,
   "id": "f4d093f3",
   "metadata": {},
   "outputs": [],
   "source": [
    "def time_to_frame(time, fps):\n",
    "    \"\"\"\n",
    "    1. time: tuple, (miniute, second), e.g) 1분 38초 = (1,38)\n",
    "    2. fps: int, frame per second, e.g) 30\n",
    "    \"\"\"\n",
    "    sec = time[0]*60 + time[1]\n",
    "    frame = sec * fps\n",
    "    return frame"
   ]
  },
  {
   "cell_type": "code",
   "execution_count": 175,
   "id": "08fa6266",
   "metadata": {},
   "outputs": [],
   "source": [
    "def font_height_to_segmentation(data, video_name, score, fh_low, fh_high, freq, fps, find_range):\n",
    "    \n",
    "    \"\"\"\n",
    "    data: type = .json, help = scene_text_recognition result, e.g) result_30\n",
    "    video_name: type = str, help = video name without the file extension like .mp4, e.g) 'bundaegi', 'egg', 'nuddle'\n",
    "    score : type=float, help= scentxt_score, e.g) 0.7\n",
    "    fh_low : type=int, help= font_height_low, e.g) 125\n",
    "    fh_high : type=int, help= font_height_high, e.g) 140\n",
    "    freq : type=int, help= frequency of text_bboxes per frame, e.g) 10\n",
    "                        (The larger the number, the higher the probability that the subtitle appeared.)\n",
    "    fps : type=int, help=frame per second, e.g) 30\n",
    "    find_range: type=int, help=sec, take text_result for time of find_range from segment start time, e.g) 3\n",
    "    \"\"\"\n",
    "    \n",
    "    frame_results_list = [] #frame 별 result만 따로 정리하자\n",
    "\n",
    "    for idx in range(len(data[video_name]['scenetxt']['frame_results'])): #영상 전체 프레임 수 만큼 반복\n",
    "\n",
    "        frame_results_list.append(data[video_name]['scenetxt']['frame_results'][idx]['frame_result'])\n",
    "    \n",
    "    target_frame_label = {} #filtered {frame : description(label)}\n",
    "\n",
    "    for frame, result in enumerate(frame_results_list):\n",
    "        for i in result:\n",
    "            \n",
    "            #scene_text_score& font height filter\n",
    "            if (i['label'][0]['score'] > score) and (fh_low<=i['position']['h']<fh_high):\n",
    "                target_frame_label[frame] = i['label'][0]['description']\n",
    "    \n",
    "    # frame to time& sort by asceding order\n",
    "    target_time = sorted([frame_to_time(frame=j, fps=30) for j in list(set(target_frame_label.keys()))], key= lambda x: (x[0], x[1]) )\n",
    "    \n",
    "    # frequency the font appeared filter: 1 프레임에서도 같은 높이의 폰트가 여러 번 등장할 수 있다. 즉 등장 빈도수를 freq에 대해 filtering\n",
    "    cnt = Counter(target_time)\n",
    "    most_freq_list = list(filter(lambda x: x[1] > freq, cnt.most_common()))\n",
    "    \n",
    "    most_list = sorted([i[0] for i in most_freq_list], key = lambda x: (x[0], x[1]))\n",
    "    \n",
    "    # Frames appearing in succession are represented by the front frame: 연달아 나오는 프레임은 맨 앞 시간으로 태그를 걸어주면 된다.\n",
    "    seg_time = copy.deepcopy(most_list)\n",
    "\n",
    "    for i in range(len(most_list)-1):\n",
    "\n",
    "        if most_list[i+1][1] == most_list[i][1] + 1:\n",
    "            seg_time.remove(most_list[i+1])\n",
    "        else:\n",
    "            pass\n",
    "    \n",
    "    # time to frame\n",
    "    seg_frame = list(map(lambda x: time_to_frame(x,fps), seg_time))\n",
    "    \n",
    "    # take tags from seg_time for find_range time\n",
    "    seg_tag = {}\n",
    "    for start in seg_frame:\n",
    "        tag_list = []\n",
    "        end = start + (find_range * fps)\n",
    "\n",
    "        for frame in target_frame_label.keys():\n",
    "            if start <= frame < end:\n",
    "                tag_list.append(target_frame_label[frame])\n",
    "        seg_tag[start] = set(tag_list)\n",
    "    \n",
    "    return seg_time, seg_tag"
   ]
  },
  {
   "cell_type": "code",
   "execution_count": 213,
   "id": "0b446151",
   "metadata": {},
   "outputs": [
    {
     "data": {
      "text/plain": [
       "([(1, 38), (1, 50), (1, 54), (2, 8), (2, 23), (2, 38), (2, 57)],\n",
       " {2940: {'1팩', '메추리알'},\n",
       "  3300: {'1컵', '시2컵', '진간장그컵', '황설탕'},\n",
       "  3420: {'물4컵'},\n",
       "  3840: {'10개', 'tht', 'tr', 'ttr'},\n",
       "  4290: {'16개', '파리고추'},\n",
       "  4740: {'3개', '청양고추3개'},\n",
       "  5310: {'1조각'}})"
      ]
     },
     "execution_count": 213,
     "metadata": {},
     "output_type": "execute_result"
    }
   ],
   "source": [
    "# data = result_30\n",
    "# video_name = 'egg' #['bundaegi', 'egg', 'nuddle']\n",
    "# score = 0.7\n",
    "# fh_low = 125\n",
    "# fh_high = 140\n",
    "# freq = 10\n",
    "# fps = 30\n",
    "# find_range = 3\n",
    "\n",
    "# seg_time, seg_tag = font_height_to_segmentation(data, video_name, score, fh_low, fh_high, freq, fps, find_range)\n",
    "# seg_time, seg_tag"
   ]
  },
  {
   "cell_type": "code",
   "execution_count": 184,
   "id": "642050e7",
   "metadata": {},
   "outputs": [
    {
     "data": {
      "text/plain": [
       "31001"
      ]
     },
     "execution_count": 184,
     "metadata": {},
     "output_type": "execute_result"
    }
   ],
   "source": [
    "# preprocessed scenetext_result\n",
    "\n",
    "# egg_text = preprocess(data=result_30, score=0.9, video_name='egg', module_name='scenetxt')\n",
    "# len(egg_text)"
   ]
  },
  {
   "cell_type": "code",
   "execution_count": 186,
   "id": "3ef18254",
   "metadata": {},
   "outputs": [
    {
     "data": {
      "text/html": [
       "<div>\n",
       "<style scoped>\n",
       "    .dataframe tbody tr th:only-of-type {\n",
       "        vertical-align: middle;\n",
       "    }\n",
       "\n",
       "    .dataframe tbody tr th {\n",
       "        vertical-align: top;\n",
       "    }\n",
       "\n",
       "    .dataframe thead th {\n",
       "        text-align: right;\n",
       "    }\n",
       "</style>\n",
       "<table border=\"1\" class=\"dataframe\">\n",
       "  <thead>\n",
       "    <tr style=\"text-align: right;\">\n",
       "      <th></th>\n",
       "      <th>ingr_ko</th>\n",
       "      <th>ingr_en</th>\n",
       "    </tr>\n",
       "  </thead>\n",
       "  <tbody>\n",
       "    <tr>\n",
       "      <th>0</th>\n",
       "      <td>가다랑어</td>\n",
       "      <td>Katsuo(일명), BONITO</td>\n",
       "    </tr>\n",
       "    <tr>\n",
       "      <th>1</th>\n",
       "      <td>가다랑어포</td>\n",
       "      <td>katsuobushi</td>\n",
       "    </tr>\n",
       "    <tr>\n",
       "      <th>2</th>\n",
       "      <td>가리비</td>\n",
       "      <td>scallop</td>\n",
       "    </tr>\n",
       "    <tr>\n",
       "      <th>3</th>\n",
       "      <td>가리비살</td>\n",
       "      <td>Hotategai(일명)</td>\n",
       "    </tr>\n",
       "    <tr>\n",
       "      <th>4</th>\n",
       "      <td>가시복</td>\n",
       "      <td>Harisenbon(일명)</td>\n",
       "    </tr>\n",
       "    <tr>\n",
       "      <th>...</th>\n",
       "      <td>...</td>\n",
       "      <td>...</td>\n",
       "    </tr>\n",
       "    <tr>\n",
       "      <th>4928</th>\n",
       "      <td>strawberry guave열매</td>\n",
       "      <td>Erdbeerguave, Cattley Guava, Purple Guava, pin...</td>\n",
       "    </tr>\n",
       "    <tr>\n",
       "      <th>4929</th>\n",
       "      <td>sugar pea</td>\n",
       "      <td>snow pea</td>\n",
       "    </tr>\n",
       "    <tr>\n",
       "      <th>4930</th>\n",
       "      <td>tea oil plant씨</td>\n",
       "      <td>tea oil camellia</td>\n",
       "    </tr>\n",
       "    <tr>\n",
       "      <th>4931</th>\n",
       "      <td>wild endive</td>\n",
       "      <td>wild endive</td>\n",
       "    </tr>\n",
       "    <tr>\n",
       "      <th>4932</th>\n",
       "      <td>wild triga씨</td>\n",
       "      <td>intermediate wheatgrass</td>\n",
       "    </tr>\n",
       "  </tbody>\n",
       "</table>\n",
       "<p>4933 rows × 2 columns</p>\n",
       "</div>"
      ],
      "text/plain": [
       "                 ingr_ko                                            ingr_en\n",
       "0                   가다랑어                                 Katsuo(일명), BONITO\n",
       "1                  가다랑어포                                        katsuobushi\n",
       "2                    가리비                                            scallop\n",
       "3                   가리비살                                      Hotategai(일명)\n",
       "4                    가시복                                     Harisenbon(일명)\n",
       "...                  ...                                                ...\n",
       "4928  strawberry guave열매  Erdbeerguave, Cattley Guava, Purple Guava, pin...\n",
       "4929           sugar pea                                           snow pea\n",
       "4930      tea oil plant씨                                   tea oil camellia\n",
       "4931         wild endive                                        wild endive\n",
       "4932         wild triga씨                            intermediate wheatgrass\n",
       "\n",
       "[4933 rows x 2 columns]"
      ]
     },
     "execution_count": 186,
     "metadata": {},
     "output_type": "execute_result"
    }
   ],
   "source": [
    "df = pd.read_csv('./Dataset/dataset/refined/ingredients.csv', encoding = 'cp949' )\n",
    "df"
   ]
  },
  {
   "cell_type": "code",
   "execution_count": 214,
   "id": "2633d16d",
   "metadata": {},
   "outputs": [],
   "source": [
    "def text_simple_match(data, db, topk):\n",
    "    \n",
    "    \"\"\"\n",
    "    1. data: list, 질의할 preprocessed scenetext 분석 결과, e.g) egg_text (= preprocess(data=result_30, score=0.9, video_name='egg', module_name='scenetxt'))\n",
    "    2. db: pd.Dataframe, 매칭할 데이터 베이스 e.g) 식재료 데이터 베이스, df (= pd.read_csv('./Dataset/dataset/refined/ingredients.csv', encoding = 'cp949' ))\n",
    "    3. topk: int, 몇 개의 빈도수 상위 태그를 뽑을 것인지 e.g) 5\n",
    "    \"\"\"\n",
    "\n",
    "    result_dict={}\n",
    "    \n",
    "    # count the number of fail to match\n",
    "    no_result = 0\n",
    "\n",
    "    for query in data:\n",
    "\n",
    "        # scenetxt_result <-> ingredient DB \n",
    "        search_result = list(filter(lambda x: x == query, db['ingr_ko']))\n",
    "\n",
    "        if search_result: #exist\n",
    "\n",
    "                if search_result[0] in result_dict:\n",
    "                    result_dict[search_result[0]] += 1\n",
    "                else:\n",
    "                    result_dict[search_result[0]] = 1\n",
    "\n",
    "        else: #empty\n",
    "            no_result += 1\n",
    "    \n",
    "    #The ratio of result doesn't output\n",
    "    #print(f'no_result_ratio : {round(no_result/len(data), 2)}')\n",
    "    \n",
    "    topk_tags = [label[0] for label in sorted(result_dict.items(), key = lambda x: -x[1])[:topk]]\n",
    "    \n",
    "    return topk_tags"
   ]
  },
  {
   "cell_type": "code",
   "execution_count": 215,
   "id": "a657a1c5",
   "metadata": {},
   "outputs": [
    {
     "data": {
      "text/plain": [
       "['메추리알', '마늘', '다시마', '버터', '간장']"
      ]
     },
     "execution_count": 215,
     "metadata": {},
     "output_type": "execute_result"
    }
   ],
   "source": [
    "#Test\n",
    "\n",
    "# data = egg_text\n",
    "# db = df\n",
    "# topk = 5\n",
    "\n",
    "# top5_tags = text_simple_match(data, db, topk)\n",
    "# top5_tags"
   ]
  },
  {
   "cell_type": "markdown",
   "id": "99701978",
   "metadata": {},
   "source": [
    "# 4. Result\n",
    "   ## - Among Playlists (from 백종원의 요리비책 Paik's Cuisine\")\n",
    "   1. egg.mp4 : 백종원의 쿠킹로그 (313 videos (22.08.20 기준)) : 🦆 여보 여기 있던 내 알 못 봤어요│메추리알 장조림, https://youtu.be/RmZyxKOUbfs\n",
    "   2. nuddle.mp4 : 집종원 (37 videos (22.08.20 기준)) : 🍅케첩이 된 멋쟁이 토마토! 나폴리탄으로 업그레이드해줬습니다!🍅, https://youtu.be/1PRD6zJRY4c\n",
    "   3. bundaegi.mp4 : 바종원 (8 videos (22.08.20 기준)) : 오늘따라 야장 가고 싶네... 청양고추 잔뜩 넣은 번데기탕에 감귤 향 터지는 미상 한 병? 오늘 나 집에 안 가!, https://youtu.be/9zqOvGkGPp4\n",
    "   <br/><br/>\n",
    "   \n",
    "   \n",
    "   \n",
    "   ## - In Playlist(of 백종원의 쿠킹로그)\n",
    "   1. egg.mp4 : 🦆 여보 여기 있던 내 알 못 봤어요│메추리알 장조림, https://youtu.be/RmZyxKOUbfs\n",
    "   2. mooksabal.mp4 : 단돈 2천원으로 방구석 피서! 다람이 거🐹 도토리🌰 뺏어 만든 쿨내 폴폴❄ 묵사발, https://youtu.be/-Imo0xgUQG0\n",
    "   3. miyeok_gook.mp4 : 300원으로 한 냄비 가~득 국 끓이기! 가성비 끝판왕 맑은 미역국, https://youtu.be/xsTFsunt6-8\n",
    "  <br/><br/>\n",
    "   \n",
    "   \n",
    "   \n",
    "  ## - In Video(egg.mp4 : 🦆 여보 여기 있던 내 알 못 봤어요│메추리알 장조림)\n",
    "  1. fps=1, font_text_score=0.9\n",
    "  2. fps=1, font_text_score=0.7\n",
    "  3. fps=30, font_text_score=0.7"
   ]
  },
  {
   "cell_type": "code",
   "execution_count": null,
   "id": "d78bb18d",
   "metadata": {},
   "outputs": [],
   "source": [
    "# among playlists\n",
    "\n",
    "######################'egg'###################### \n",
    "#fps=1, font_text_score=0.95 font_height=(125, 140)\n",
    "\n",
    "# {'food': '조림/메추리알장조림',\n",
    "#  'action_recog': ['cooking egg', 'cooking chicken', 'scrambling eggs'],\n",
    "#  'segment': {(1, 39): {'1팩', '메추리알'},\n",
    "#   (1, 51): {'황설탕'},\n",
    "#   (1, 54): {'물4컵'},\n",
    "#   (2, 8): {'10개'},\n",
    "#   (2, 23): {'16개'},\n",
    "#   (2, 39): {'3개', '청양고추3개'},\n",
    "#   (2, 57): {'1조각'}},\n",
    "#  'match': ['메추리알', '마늘', '버터', '조', '다시마'],\n",
    "#  'video': 'egg'}\n",
    "\n",
    "#####################'nuddle'##################### \n",
    "#fps=1, font_text_score=0.95 font_height=(120, 130)\n",
    "\n",
    "# {'food': '면/라면',\n",
    "#  'action_recog': ['tasting food', 'eating burger', 'eating spaghetti'],\n",
    "#  'segment': {(0, 29): {'라파'},\n",
    "#   (0, 35): {'라파는?'},\n",
    "#   (1, 53): {'잘게채'},\n",
    "#   (2, 11): {'소시지와', '식용유'},\n",
    "#   (2, 13): {'볶아주세요', '소시지와'},\n",
    "#   (2, 54): {'라면1개'},\n",
    "#   (2, 57): {'분위기'},\n",
    "#   (3, 24): {'진간장'},\n",
    "#   (3, 35): {'지금부터는'},\n",
    "#   (3, 52): {'해먹지?'},\n",
    "#   (4, 40): {'전', '집종원'},\n",
    "#   (4, 42): {'집종원'},\n",
    "#   (4, 55): {'궁금증', '생각난'}},\n",
    "#  'match': ['토마토', '간장', '소시지', '양파', '조'],\n",
    "#  'video': 'nuddle'}\n",
    "\n",
    "###################'bundaegi' ###################\n",
    "#fps=1, font_text_score=0.95 font_height=(145,154)\n",
    "\n",
    "# {'food': '음청류/식혜',\n",
    "#  'action_recog': ['tasting beer', 'dining', 'bartending'],\n",
    "#  'segment': {(1, 56): {'시작된'},\n",
    "#   (1, 59): {'백종원의', '야무지게'},\n",
    "#   (2, 1): {'백종원의'},\n",
    "#   (2, 30): {'있어요!', '지금'},\n",
    "#   (2, 36): {'백종원의'},\n",
    "#   (2, 44): {'전다음에'},\n",
    "#   (2, 51): {'국물까지'},\n",
    "#   (3, 10): {'연애할때'},\n",
    "#   (3, 13): {'양파'},\n",
    "#   (3, 24): {'반개만!'},\n",
    "#   (4, 2): {'간장은'},\n",
    "#   (4, 28): {'나도', '이번'},\n",
    "#   (4, 55): {'백종원의'},\n",
    "#   (5, 28): {'비빔국수'},\n",
    "#   (5, 49): {'백종원의', '종원의'},\n",
    "#   (6, 17): {'종원'}},\n",
    "#  'match': ['멸치', '배', '감귤', '아마', '양파'],\n",
    "#  'video': 'bundaegi'}"
   ]
  },
  {
   "cell_type": "code",
   "execution_count": null,
   "id": "282cb5f2",
   "metadata": {},
   "outputs": [],
   "source": [
    "# in playlists\n",
    "\n",
    "########################'egg'######################## \n",
    "#fps=1, font_text_score=0.95 font_height=(125, 140)\n",
    "\n",
    "# {'food': '조림/메추리알장조림',\n",
    "#  'action_recog': ['cooking egg', 'cooking chicken', 'scrambling eggs'],\n",
    "#  'segment': {(1, 39): {'1팩', '메추리알'},\n",
    "#   (1, 51): {'황설탕'},\n",
    "#   (1, 54): {'물4컵'},\n",
    "#   (2, 8): {'10개'},\n",
    "#   (2, 23): {'16개'},\n",
    "#   (2, 39): {'3개', '청양고추3개'},\n",
    "#   (2, 57): {'1조각'}},\n",
    "#  'match': ['메추리알', '마늘', '버터', '조', '다시마'],\n",
    "#  'video': 'egg'}\n",
    "\n",
    "##################'mooksabal'################## \n",
    "#fps=1, font_text_score=0.95 font_height=(87, 93)\n",
    "\n",
    "# {'food': '무침/도토리묵',\n",
    "#  'action_recog': ['cooking chicken', 'scrambling eggs', 'tossing salad'],\n",
    "#  'segment': {(1, 16): {'1팩'},\n",
    "#   (1, 42): {'신김치'},\n",
    "#   (2, 0): {'14개', '오이약'},\n",
    "#   (2, 6): {'대파약', '약'},\n",
    "#   (2, 9): {'청양고추'},\n",
    "#   (2, 23): {'간마늘'},\n",
    "#   (3, 8): {'참기름'},\n",
    "#   (3, 38): {'약'},\n",
    "#   (3, 56): {'수있도록'},\n",
    "#   (4, 0): {'수있도록'},\n",
    "#   (4, 22): {'정수물'},\n",
    "#   (4, 34): {'국간장'},\n",
    "#   (4, 48): {'황설탕약'},\n",
    "#   (5, 4): {'식초'},\n",
    "#   (5, 24): {'부어'},\n",
    "#   (5, 31): {'약간'},\n",
    "#   (6, 27): {'김까지', '먹으려고'}},\n",
    "#  'match': ['소고기', '멸치', '식초', '김', '마늘'],\n",
    "#  'video': 'mooksabal'}\n",
    "\n",
    "##################'miyeok_gook'##################\n",
    "#fps=1, font_text_score=0.95 font_height=(87, 93)\n",
    "\n",
    "# {'food': '국/미역국',\n",
    "#  'action_recog': ['scrambling eggs', 'cooking chicken', 'cooking egg'],\n",
    "#  'segment': {(0, 54): {'정수물'},\n",
    "#   (1, 7): {'불린'},\n",
    "#   (1, 10): {'불린'},\n",
    "#   (1, 18): {'국간장'},\n",
    "#   (1, 23): {'간마늘'},\n",
    "#   (1, 39): {'멸치액젓'},\n",
    "#   (1, 47): {'맛소금'},\n",
    "#   (3, 30): {'주세요'}},\n",
    "#  'match': ['미역', '닭고기', '소금', '소고기', '다시마'],\n",
    "#  'video': 'miyeok_gook'}"
   ]
  },
  {
   "cell_type": "code",
   "execution_count": null,
   "id": "4ff049e6",
   "metadata": {},
   "outputs": [],
   "source": [
    "# Compare by adjusting fps, font_text_score\n",
    "################# 'egg' ###################\n",
    "\n",
    "#######fps =1, score=0.9 ########\n",
    "\n",
    "# {'food': '조림/메추리알장조림',\n",
    "#  'action_recog': ['cooking egg', 'cooking chicken', 'scrambling eggs'],\n",
    "#  'segment': {99: {'1팩', '메추리알'},\n",
    "#   111: {'황설탕'},\n",
    "#   114: {'물4컵'},\n",
    "#   128: {'10개', 'tr'},\n",
    "#   143: {'16개', '파리고추'},\n",
    "#   159: {'3개', '청양고추3개'},\n",
    "#   177: {'1조각'}},\n",
    "#  'match': ['메추리알', '마늘', '버터', '조', '다시마']}\n",
    "\n",
    "#######fps =1, score=0.7 ########\n",
    "\n",
    "# {'food': '조림/메추리알장조림',\n",
    "#  'action_recog': ['cooking egg', 'cooking chicken', 'scrambling eggs'],\n",
    "#  'segment': {99: {'1팩', '메추리알'},\n",
    "#   111: {'황설탕'},\n",
    "#   114: {'물4컵'},\n",
    "#   128: {'10개', 'tr'},\n",
    "#   143: {'16개', '파리고추'},\n",
    "#   159: {'3개', '청양고추3개'},\n",
    "#   165: {'th'},\n",
    "#   177: {'1조각'}},\n",
    "#  'match': ['메추리알', '마늘', '버터', '조', '다시마']}\n",
    "\n",
    "#########fps=30, score=0.7 ########\n",
    "\n",
    "# {'food': '조림/메추리알장조림',\n",
    "#  'action_recog': ['cooking chicken', 'cooking egg', 'scrambling eggs'],\n",
    "#  'segment': {2940: {'1팩', '메추리알'},\n",
    "#   3300: {'1컵', '시2컵', '진간장그컵', '황설탕'},\n",
    "#   3420: {'물4컵'},\n",
    "#   3840: {'10개', 'tht', 'tr', 'ttr'},\n",
    "#   4290: {'16개', '파리고추'},\n",
    "#   4740: {'3개', '청양고추3개'},\n",
    "#   5310: {'1조각'}},\n",
    "#  'match': ['메추리알', '마늘', '다시마', '버터', '간장'],\n",
    "#  'video': 'egg'}"
   ]
  },
  {
   "cell_type": "markdown",
   "id": "e391fd61",
   "metadata": {},
   "source": [
    "# Appendix\n",
    "   - Hangeul encoding check\n",
    "   - kinetics400: label list\n",
    "   - opencv: video_to_image  "
   ]
  },
  {
   "cell_type": "code",
   "execution_count": null,
   "id": "686f4056",
   "metadata": {},
   "outputs": [],
   "source": [
    "# check system encoding set\n",
    "import sys\n",
    "sys.stdin.encoding, sys.stdout.encoding"
   ]
  },
  {
   "cell_type": "code",
   "execution_count": 45,
   "id": "098215e1",
   "metadata": {
    "collapsed": true
   },
   "outputs": [
    {
     "data": {
      "text/plain": [
       "['abseiling',\n",
       " 'air drumming',\n",
       " 'answering questions',\n",
       " 'applauding',\n",
       " 'applying cream',\n",
       " 'archery',\n",
       " 'arm wrestling',\n",
       " 'arranging flowers',\n",
       " 'assembling computer',\n",
       " 'auctioning',\n",
       " 'baby waking up',\n",
       " 'baking cookies',\n",
       " 'balloon blowing',\n",
       " 'bandaging',\n",
       " 'barbequing',\n",
       " 'bartending',\n",
       " 'beatboxing',\n",
       " 'bee keeping',\n",
       " 'belly dancing',\n",
       " 'bench pressing',\n",
       " 'bending back',\n",
       " 'bending metal',\n",
       " 'biking through snow',\n",
       " 'blasting sand',\n",
       " 'blowing glass',\n",
       " 'blowing leaves',\n",
       " 'blowing nose',\n",
       " 'blowing out candles',\n",
       " 'bobsledding',\n",
       " 'bookbinding',\n",
       " 'bouncing on trampoline',\n",
       " 'bowling',\n",
       " 'braiding hair',\n",
       " 'breading or breadcrumbing',\n",
       " 'breakdancing',\n",
       " 'brush painting',\n",
       " 'brushing hair',\n",
       " 'brushing teeth',\n",
       " 'building cabinet',\n",
       " 'building shed',\n",
       " 'bungee jumping',\n",
       " 'busking',\n",
       " 'canoeing or kayaking',\n",
       " 'capoeira',\n",
       " 'carrying baby',\n",
       " 'cartwheeling',\n",
       " 'carving pumpkin',\n",
       " 'catching fish',\n",
       " 'catching or throwing baseball',\n",
       " 'catching or throwing frisbee',\n",
       " 'catching or throwing softball',\n",
       " 'celebrating',\n",
       " 'changing oil',\n",
       " 'changing wheel',\n",
       " 'checking tires',\n",
       " 'cheerleading',\n",
       " 'chopping wood',\n",
       " 'clapping',\n",
       " 'clay pottery making',\n",
       " 'clean and jerk',\n",
       " 'cleaning floor',\n",
       " 'cleaning gutters',\n",
       " 'cleaning pool',\n",
       " 'cleaning shoes',\n",
       " 'cleaning toilet',\n",
       " 'cleaning windows',\n",
       " 'climbing a rope',\n",
       " 'climbing ladder',\n",
       " 'climbing tree',\n",
       " 'contact juggling',\n",
       " 'cooking chicken',\n",
       " 'cooking egg',\n",
       " 'cooking on campfire',\n",
       " 'cooking sausages',\n",
       " 'counting money',\n",
       " 'country line dancing',\n",
       " 'cracking neck',\n",
       " 'crawling baby',\n",
       " 'crossing river',\n",
       " 'crying',\n",
       " 'curling hair',\n",
       " 'cutting nails',\n",
       " 'cutting pineapple',\n",
       " 'cutting watermelon',\n",
       " 'dancing ballet',\n",
       " 'dancing charleston',\n",
       " 'dancing gangnam style',\n",
       " 'dancing macarena',\n",
       " 'deadlifting',\n",
       " 'decorating the christmas tree',\n",
       " 'digging',\n",
       " 'dining',\n",
       " 'disc golfing',\n",
       " 'diving cliff',\n",
       " 'dodgeball',\n",
       " 'doing aerobics',\n",
       " 'doing laundry',\n",
       " 'doing nails',\n",
       " 'drawing',\n",
       " 'dribbling basketball',\n",
       " 'drinking',\n",
       " 'drinking beer',\n",
       " 'drinking shots',\n",
       " 'driving car',\n",
       " 'driving tractor',\n",
       " 'drop kicking',\n",
       " 'drumming fingers',\n",
       " 'dunking basketball',\n",
       " 'dying hair',\n",
       " 'eating burger',\n",
       " 'eating cake',\n",
       " 'eating carrots',\n",
       " 'eating chips',\n",
       " 'eating doughnuts',\n",
       " 'eating hotdog',\n",
       " 'eating ice cream',\n",
       " 'eating spaghetti',\n",
       " 'eating watermelon',\n",
       " 'egg hunting',\n",
       " 'exercising arm',\n",
       " 'exercising with an exercise ball',\n",
       " 'extinguishing fire',\n",
       " 'faceplanting',\n",
       " 'feeding birds',\n",
       " 'feeding fish',\n",
       " 'feeding goats',\n",
       " 'filling eyebrows',\n",
       " 'finger snapping',\n",
       " 'fixing hair',\n",
       " 'flipping pancake',\n",
       " 'flying kite',\n",
       " 'folding clothes',\n",
       " 'folding napkins',\n",
       " 'folding paper',\n",
       " 'front raises',\n",
       " 'frying vegetables',\n",
       " 'garbage collecting',\n",
       " 'gargling',\n",
       " 'getting a haircut',\n",
       " 'getting a tattoo',\n",
       " 'giving or receiving award',\n",
       " 'golf chipping',\n",
       " 'golf driving',\n",
       " 'golf putting',\n",
       " 'grinding meat',\n",
       " 'grooming dog',\n",
       " 'grooming horse',\n",
       " 'gymnastics tumbling',\n",
       " 'hammer throw',\n",
       " 'headbanging',\n",
       " 'headbutting',\n",
       " 'high jump',\n",
       " 'high kick',\n",
       " 'hitting baseball',\n",
       " 'hockey stop',\n",
       " 'holding snake',\n",
       " 'hopscotch',\n",
       " 'hoverboarding',\n",
       " 'hugging',\n",
       " 'hula hooping',\n",
       " 'hurdling',\n",
       " 'hurling (sport)',\n",
       " 'ice climbing',\n",
       " 'ice fishing',\n",
       " 'ice skating',\n",
       " 'ironing',\n",
       " 'javelin throw',\n",
       " 'jetskiing',\n",
       " 'jogging',\n",
       " 'juggling balls',\n",
       " 'juggling fire',\n",
       " 'juggling soccer ball',\n",
       " 'jumping into pool',\n",
       " 'jumpstyle dancing',\n",
       " 'kicking field goal',\n",
       " 'kicking soccer ball',\n",
       " 'kissing',\n",
       " 'kitesurfing',\n",
       " 'knitting',\n",
       " 'krumping',\n",
       " 'laughing',\n",
       " 'laying bricks',\n",
       " 'long jump',\n",
       " 'lunge',\n",
       " 'making a cake',\n",
       " 'making a sandwich',\n",
       " 'making bed',\n",
       " 'making jewelry',\n",
       " 'making pizza',\n",
       " 'making snowman',\n",
       " 'making sushi',\n",
       " 'making tea',\n",
       " 'marching',\n",
       " 'massaging back',\n",
       " 'massaging feet',\n",
       " 'massaging legs',\n",
       " \"massaging person's head\",\n",
       " 'milking cow',\n",
       " 'mopping floor',\n",
       " 'motorcycling',\n",
       " 'moving furniture',\n",
       " 'mowing lawn',\n",
       " 'news anchoring',\n",
       " 'opening bottle',\n",
       " 'opening present',\n",
       " 'paragliding',\n",
       " 'parasailing',\n",
       " 'parkour',\n",
       " 'passing American football (in game)',\n",
       " 'passing American football (not in game)',\n",
       " 'peeling apples',\n",
       " 'peeling potatoes',\n",
       " 'petting animal (not cat)',\n",
       " 'petting cat',\n",
       " 'picking fruit',\n",
       " 'planting trees',\n",
       " 'plastering',\n",
       " 'playing accordion',\n",
       " 'playing badminton',\n",
       " 'playing bagpipes',\n",
       " 'playing basketball',\n",
       " 'playing bass guitar',\n",
       " 'playing cards',\n",
       " 'playing cello',\n",
       " 'playing chess',\n",
       " 'playing clarinet',\n",
       " 'playing controller',\n",
       " 'playing cricket',\n",
       " 'playing cymbals',\n",
       " 'playing didgeridoo',\n",
       " 'playing drums',\n",
       " 'playing flute',\n",
       " 'playing guitar',\n",
       " 'playing harmonica',\n",
       " 'playing harp',\n",
       " 'playing ice hockey',\n",
       " 'playing keyboard',\n",
       " 'playing kickball',\n",
       " 'playing monopoly',\n",
       " 'playing organ',\n",
       " 'playing paintball',\n",
       " 'playing piano',\n",
       " 'playing poker',\n",
       " 'playing recorder',\n",
       " 'playing saxophone',\n",
       " 'playing squash or racquetball',\n",
       " 'playing tennis',\n",
       " 'playing trombone',\n",
       " 'playing trumpet',\n",
       " 'playing ukulele',\n",
       " 'playing violin',\n",
       " 'playing volleyball',\n",
       " 'playing xylophone',\n",
       " 'pole vault',\n",
       " 'presenting weather forecast',\n",
       " 'pull ups',\n",
       " 'pumping fist',\n",
       " 'pumping gas',\n",
       " 'punching bag',\n",
       " 'punching person (boxing)',\n",
       " 'push up',\n",
       " 'pushing car',\n",
       " 'pushing cart',\n",
       " 'pushing wheelchair',\n",
       " 'reading book',\n",
       " 'reading newspaper',\n",
       " 'recording music',\n",
       " 'riding a bike',\n",
       " 'riding camel',\n",
       " 'riding elephant',\n",
       " 'riding mechanical bull',\n",
       " 'riding mountain bike',\n",
       " 'riding mule',\n",
       " 'riding or walking with horse',\n",
       " 'riding scooter',\n",
       " 'riding unicycle',\n",
       " 'ripping paper',\n",
       " 'robot dancing',\n",
       " 'rock climbing',\n",
       " 'rock scissors paper',\n",
       " 'roller skating',\n",
       " 'running on treadmill',\n",
       " 'sailing',\n",
       " 'salsa dancing',\n",
       " 'sanding floor',\n",
       " 'scrambling eggs',\n",
       " 'scuba diving',\n",
       " 'setting table',\n",
       " 'shaking hands',\n",
       " 'shaking head',\n",
       " 'sharpening knives',\n",
       " 'sharpening pencil',\n",
       " 'shaving head',\n",
       " 'shaving legs',\n",
       " 'shearing sheep',\n",
       " 'shining shoes',\n",
       " 'shooting basketball',\n",
       " 'shooting goal (soccer)',\n",
       " 'shot put',\n",
       " 'shoveling snow',\n",
       " 'shredding paper',\n",
       " 'shuffling cards',\n",
       " 'side kick',\n",
       " 'sign language interpreting',\n",
       " 'singing',\n",
       " 'situp',\n",
       " 'skateboarding',\n",
       " 'ski jumping',\n",
       " 'skiing (not slalom or crosscountry)',\n",
       " 'skiing crosscountry',\n",
       " 'skiing slalom',\n",
       " 'skipping rope',\n",
       " 'skydiving',\n",
       " 'slacklining',\n",
       " 'slapping',\n",
       " 'sled dog racing',\n",
       " 'smoking',\n",
       " 'smoking hookah',\n",
       " 'snatch weight lifting',\n",
       " 'sneezing',\n",
       " 'sniffing',\n",
       " 'snorkeling',\n",
       " 'snowboarding',\n",
       " 'snowkiting',\n",
       " 'snowmobiling',\n",
       " 'somersaulting',\n",
       " 'spinning poi',\n",
       " 'spray painting',\n",
       " 'spraying',\n",
       " 'springboard diving',\n",
       " 'squat',\n",
       " 'sticking tongue out',\n",
       " 'stomping grapes',\n",
       " 'stretching arm',\n",
       " 'stretching leg',\n",
       " 'strumming guitar',\n",
       " 'surfing crowd',\n",
       " 'surfing water',\n",
       " 'sweeping floor',\n",
       " 'swimming backstroke',\n",
       " 'swimming breast stroke',\n",
       " 'swimming butterfly stroke',\n",
       " 'swing dancing',\n",
       " 'swinging legs',\n",
       " 'swinging on something',\n",
       " 'sword fighting',\n",
       " 'tai chi',\n",
       " 'taking a shower',\n",
       " 'tango dancing',\n",
       " 'tap dancing',\n",
       " 'tapping guitar',\n",
       " 'tapping pen',\n",
       " 'tasting beer',\n",
       " 'tasting food',\n",
       " 'testifying',\n",
       " 'texting',\n",
       " 'throwing axe',\n",
       " 'throwing ball',\n",
       " 'throwing discus',\n",
       " 'tickling',\n",
       " 'tobogganing',\n",
       " 'tossing coin',\n",
       " 'tossing salad',\n",
       " 'training dog',\n",
       " 'trapezing',\n",
       " 'trimming or shaving beard',\n",
       " 'trimming trees',\n",
       " 'triple jump',\n",
       " 'tying bow tie',\n",
       " 'tying knot (not on a tie)',\n",
       " 'tying tie',\n",
       " 'unboxing',\n",
       " 'unloading truck',\n",
       " 'using computer',\n",
       " 'using remote controller (not gaming)',\n",
       " 'using segway',\n",
       " 'vault',\n",
       " 'waiting in line',\n",
       " 'walking the dog',\n",
       " 'washing dishes',\n",
       " 'washing feet',\n",
       " 'washing hair',\n",
       " 'washing hands',\n",
       " 'water skiing',\n",
       " 'water sliding',\n",
       " 'watering plants',\n",
       " 'waxing back',\n",
       " 'waxing chest',\n",
       " 'waxing eyebrows',\n",
       " 'waxing legs',\n",
       " 'weaving basket',\n",
       " 'welding',\n",
       " 'whistling',\n",
       " 'windsurfing',\n",
       " 'wrapping present',\n",
       " 'wrestling',\n",
       " 'writing',\n",
       " 'yawning',\n",
       " 'yoga',\n",
       " 'zumba']"
      ]
     },
     "execution_count": 45,
     "metadata": {},
     "output_type": "execute_result"
    }
   ],
   "source": [
    "# Dataset-Kinetics400\n",
    "labels = open('tools/data/kinetics/label_map_k400.txt').readlines()\n",
    "labels = [x.strip() for x in labels]\n",
    "labels"
   ]
  },
  {
   "cell_type": "code",
   "execution_count": null,
   "id": "7bfe7a81",
   "metadata": {},
   "outputs": [],
   "source": [
    "# Adjust the number of frame\n",
    "# 영상의 의미지를 연속적으로 캡쳐할 수 있게 하는 class\n",
    "vidcap = cv2.VideoCapture('{영상의 경로}.mp4')\n",
    "\n",
    "count = 0\n",
    "\n",
    "while (vidcap.isOpened()):\n",
    "    # read()는 grab()와 retrieve() 두 함수를 한 함수로 불러옴\n",
    "    # 두 함수를 동시에 불러오는 이유는 프레임이 존재하지 않을 때\n",
    "    # grab() 함수를 이용하여 return false 혹은 NULL 값을 넘겨 주기 때문\n",
    "    ret, image = vidcap.read()\n",
    "\n",
    "    if (int(vidcap.get(1)) % 10 == 0): #default fps 30이면, fps 30/10=3만큼으로 조절\n",
    "        print('Saved frame number : ' + str(int(vidcap.get(1))))\n",
    "        cv2.imwrite(\"C:/Users/BIT/Desktop/miniproj/img/%d.jpg\" % count, image)\n",
    "        print('Saved frame%d.jpg' % count)\n",
    "        count += 1\n",
    "\n",
    "vidcap.release()"
   ]
  },
  {
   "cell_type": "code",
   "execution_count": 62,
   "id": "e7eef35b",
   "metadata": {},
   "outputs": [
    {
     "name": "stdout",
     "output_type": "stream",
     "text": [
      "1080 1920 3\n"
     ]
    }
   ],
   "source": [
    "#retrieval: 반환이 됐는지 여부 # frame 맨 첫 번째 한 프레임\n",
    "ret, frame = vc.read()\n",
    "h, w, c = frame.shape\n",
    "print(h, w, c)"
   ]
  },
  {
   "cell_type": "code",
   "execution_count": 86,
   "id": "6d7743df",
   "metadata": {},
   "outputs": [
    {
     "data": {
      "text/plain": [
       "(11096, 30, 37)"
      ]
     },
     "execution_count": 86,
     "metadata": {},
     "output_type": "execute_result"
    }
   ],
   "source": [
    "segment = 10 #sec\n",
    "fps = round(vc.get(cv2.CAP_PROP_FPS))\n",
    "step = segment * fps\n",
    "frame_num = round(vc.get(cv2.CAP_PROP_FRAME_COUNT))\n",
    "out_frame_num = frame_num // step + 1 # +1: 나머지 frame을 1개로 추가\n",
    "\n",
    "round(vc.get(cv2.CAP_PROP_FRAME_COUNT)), round(vc.get(cv2.CAP_PROP_FPS)), out_frame_num"
   ]
  },
  {
   "cell_type": "code",
   "execution_count": 69,
   "id": "94fe7ad8",
   "metadata": {},
   "outputs": [
    {
     "data": {
      "text/plain": [
       "(1080, 1920)"
      ]
     },
     "execution_count": 69,
     "metadata": {},
     "output_type": "execute_result"
    }
   ],
   "source": [
    "round(vc.get(cv2.CAP_PROP_FRAME_HEIGHT)), round(vc.get(cv2.CAP_PROP_FRAME_WIDTH))"
   ]
  }
 ],
 "metadata": {
  "kernelspec": {
   "display_name": "Python 3 (ipykernel)",
   "language": "python",
   "name": "python3"
  },
  "language_info": {
   "codemirror_mode": {
    "name": "ipython",
    "version": 3
   },
   "file_extension": ".py",
   "mimetype": "text/x-python",
   "name": "python",
   "nbconvert_exporter": "python",
   "pygments_lexer": "ipython3",
   "version": "3.8.10"
  }
 },
 "nbformat": 4,
 "nbformat_minor": 5
}
